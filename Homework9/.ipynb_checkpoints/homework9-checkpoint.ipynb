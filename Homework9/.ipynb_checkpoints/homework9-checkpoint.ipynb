{
 "cells": [
  {
   "cell_type": "markdown",
   "id": "4071225d",
   "metadata": {},
   "source": [
    "**Задача 1\n",
    "Работать с файлом california_housing_train.csv, который находится в папке sample_data. Определить среднюю стоимость дома, где кол-во людей от 0 до 500 (population)**"
   ]
  },
  {
   "cell_type": "code",
   "execution_count": 62,
   "id": "8c99cbe8",
   "metadata": {},
   "outputs": [
    {
     "data": {
      "text/plain": [
       "206683.83635227982"
      ]
     },
     "execution_count": 62,
     "metadata": {},
     "output_type": "execute_result"
    }
   ],
   "source": [
    "import pandas as pd\n",
    "df = pd.read_csv('california_housing_train.csv')\n",
    "df[\n",
    "    (df[\"population\"] < 500) & (df[\"population\"] > 0)\n",
    "] .median_house_value.mean()"
   ]
  },
  {
   "cell_type": "markdown",
   "id": "4c7231c6",
   "metadata": {},
   "source": [
    "**Задача 2\n",
    "Узнать какая максимальная households в зоне минимального значения population**"
   ]
  },
  {
   "cell_type": "code",
   "execution_count": 63,
   "id": "d339bb2c",
   "metadata": {},
   "outputs": [
    {
     "data": {
      "text/plain": [
       "4.0"
      ]
     },
     "execution_count": 63,
     "metadata": {},
     "output_type": "execute_result"
    }
   ],
   "source": [
    "min_population = df.population.min()\n",
    "df[df['population'] == min_population].households.max()\n"
   ]
  }
 ],
 "metadata": {
  "kernelspec": {
   "display_name": "Python 3 (ipykernel)",
   "language": "python",
   "name": "python3"
  },
  "language_info": {
   "codemirror_mode": {
    "name": "ipython",
    "version": 3
   },
   "file_extension": ".py",
   "mimetype": "text/x-python",
   "name": "python",
   "nbconvert_exporter": "python",
   "pygments_lexer": "ipython3",
   "version": "3.8.8"
  }
 },
 "nbformat": 4,
 "nbformat_minor": 5
}
